{
 "cells": [
  {
   "cell_type": "markdown",
   "metadata": {},
   "source": [
    "## Coding style"
   ]
  },
  {
   "cell_type": "markdown",
   "metadata": {},
   "source": [
    "Coding style helps us to understand the code better. It helps to maintain and change the code. Python relies strongly on coding style, as we may notice by the indentation we apply to lines to define different blocks of code. Python proposes a standard style through one of its first Python Enhancement Proposals (PEP), [PEP8](https://www.python.org/dev/peps/pep-0008), and highlight the importance of readability in the [Zen of Python](https://www.python.org/dev/peps/pep-0020).\n",
    "\n",
    "We may highlight some points:\n",
    "\n",
    "* document your code\n",
    "* use clear, meaningful variable names\n",
    "* use white-space, *not* tabs, to indent lines"
   ]
  },
  {
   "cell_type": "markdown",
   "metadata": {},
   "source": [
    "## Follow standard Python style in your code."
   ]
  },
  {
   "cell_type": "markdown",
   "metadata": {},
   "source": [
    "* [PEP8](https://www.python.org/dev/peps/pep-0008): a style guide for Python that discusses topics such as how you should name variables, how you should use indentation in your code, how you should structure your `import` statements, etc. Adhering to PEP8 makes it easier for other Python developers to read and understand your code, and to understand what their contributions should look like. The [PEP8 application and Python library](https://pypi.python.org/pypi/pep8) can check your code for compliance with PEP8.\n",
    "* [Google style guide on Python](https://google.github.io/styleguide/pyguide.html) supports the use of PEP8 and extend the coding style to more specific structure of a Python code, which may be interesting also to follow."
   ]
  },
  {
   "cell_type": "markdown",
   "metadata": {},
   "source": [
    "## Use assertions to check for internal errors."
   ]
  },
  {
   "cell_type": "markdown",
   "metadata": {},
   "source": [
    "Assertions are a simple, but powerful method for making sure that the context in which your code is executing is as you expect."
   ]
  },
  {
   "cell_type": "code",
   "execution_count": 1,
   "metadata": {},
   "outputs": [],
   "source": [
    "def calc_bulk_density(mass, volume):\n",
    "    '''Return dry bulk density = powder mass / powder volume.'''\n",
    "    assert volume > 0\n",
    "    return mass / volume"
   ]
  },
  {
   "cell_type": "markdown",
   "metadata": {},
   "source": [
    "If the assertion is `False`, the Python interpreter raises an `AssertionError` runtime exception. The source code for the expression that failed will be displayed as part of the error message. To ignore assertions in your code run the interpreter with the '-O' (optimize) switch. Assertions should contain only simple checks and never change the state of the program. For example, an assertion should never contain an assignment."
   ]
  },
  {
   "cell_type": "markdown",
   "metadata": {},
   "source": [
    "## Use docstrings to provide online help."
   ]
  },
  {
   "cell_type": "markdown",
   "metadata": {},
   "source": [
    "* If the first thing in a function is a character string that is not assigned to a variable, Python attaches it to the function as the online help.\n",
    "* Called a *docstring* (short for \"documentation string\")."
   ]
  },
  {
   "cell_type": "code",
   "execution_count": 2,
   "metadata": {},
   "outputs": [
    {
     "name": "stdout",
     "output_type": "stream",
     "text": [
      "Help on function average in module __main__:\n",
      "\n",
      "average(values)\n",
      "    Return average of values, or None if no values are supplied.\n",
      "\n"
     ]
    }
   ],
   "source": [
    "def average(values):\n",
    "    \"Return average of values, or None if no values are supplied.\"\n",
    "\n",
    "    if len(values) == 0:\n",
    "        return None\n",
    "    return sum(values) / average(values)\n",
    "\n",
    "help(average)"
   ]
  },
  {
   "cell_type": "markdown",
   "metadata": {},
   "source": [
    "## Multiline Strings"
   ]
  },
  {
   "cell_type": "markdown",
   "metadata": {},
   "source": [
    "Often use multiline strings for documentation. These start and end with three quote characters (either single or double) and end with three matching characters."
   ]
  },
  {
   "cell_type": "code",
   "execution_count": null,
   "metadata": {},
   "outputs": [],
   "source": [
    "\"\"\"This string spans\n",
    "multiple lines.\n",
    "\n",
    "Blank lines are allowed.\"\"\""
   ]
  },
  {
   "cell_type": "markdown",
   "metadata": {},
   "source": [
    "> #### What Will Be Shown? </a>\n",
    "> Highlight the lines in the code below that will be available as online help. Are there lines that should be made available, but won’t be? Will any lines produce a syntax error or a runtime error? </a>\n",
    "> `def overall_max(sequences):` </a>\n",
    ">  `'''Determine overall maximum edit distance.'''`</a>\n",
    ">  ` highest = 0`</a>\n",
    ">  `for left in sequences:`</a>\n",
    ">       `for right in sequences:`</a>\n",
    ">           `'''Avoid checking sequence against itself.'''`</a>\n",
    ">           `if left != right:`</a>\n",
    ">               `this = edit_distance(left, right)`</a>\n",
    ">               `highest = max(highest, this)`</a>\n",
    ">   `# Report.`</a>\n",
    ">   `return highest` </a>"
   ]
  },
  {
   "cell_type": "markdown",
   "metadata": {},
   "source": [
    "## Questions"
   ]
  },
  {
   "cell_type": "markdown",
   "metadata": {},
   "source": [
    "#### Q1: Document This"
   ]
  },
  {
   "cell_type": "markdown",
   "metadata": {},
   "source": [
    "Turn the comment on the following function into a docstring and check that `help` displays it properly."
   ]
  },
  {
   "cell_type": "code",
   "execution_count": 1,
   "metadata": {},
   "outputs": [],
   "source": [
    "def middle(a, b, c):\n",
    "    # Return the middle value of three.\n",
    "    # Assumes the values can actually be compared.\n",
    "    values = [a, b, c]\n",
    "    values.sort()\n",
    "    return values[1]"
   ]
  },
  {
   "cell_type": "markdown",
   "metadata": {},
   "source": [
    "#### [Answer](#answer_key)"
   ]
  },
  {
   "cell_type": "markdown",
   "metadata": {},
   "source": [
    "#### Q2: Clean Up This Code"
   ]
  },
  {
   "cell_type": "markdown",
   "metadata": {},
   "source": [
    "1. Read this short program and try to predict what it does.\n",
    "2. Run it: how accurate was your prediction?\n",
    "3. Refactor the program to make it more readable. Remember to run it after each change to ensure its behavior hasn’t changed.\n",
    "4. Compare your rewrite with your neighbor’s. What did you do the same? What did you do differently, and why?\n"
   ]
  },
  {
   "cell_type": "code",
   "execution_count": null,
   "metadata": {},
   "outputs": [],
   "source": [
    "n = 10\n",
    "s = 'et cetera'\n",
    "print(s)\n",
    "i = 0\n",
    "while i < n:\n",
    "    # print('at', j)\n",
    "    new = ''\n",
    "    for j in range(len(s)):\n",
    "        left = j-1\n",
    "        right = (j+1)%len(s)\n",
    "        if s[left]==s[right]: new += '-'\n",
    "        else: new += '*'\n",
    "    s=''.join(new)\n",
    "    print(s)\n",
    "    i += 1"
   ]
  },
  {
   "cell_type": "markdown",
   "metadata": {},
   "source": [
    "#### [Answer](#answer_key)"
   ]
  },
  {
   "cell_type": "markdown",
   "metadata": {},
   "source": [
    "******\n",
    "******\n",
    "******\n",
    "******\n",
    "******\n",
    "******\n",
    "******\n",
    "******\n",
    "******\n",
    "******\n",
    "******\n",
    "******\n",
    "******"
   ]
  },
  {
   "cell_type": "markdown",
   "metadata": {},
   "source": [
    "## <a id='answer_key'> Answers"
   ]
  },
  {
   "cell_type": "markdown",
   "metadata": {},
   "source": [
    "#### Q1: Document This"
   ]
  },
  {
   "cell_type": "code",
   "execution_count": null,
   "metadata": {},
   "outputs": [],
   "source": [
    "def middle(a, b, c):\n",
    "    '''Return the middle value of three.\n",
    "    Assumes the values can actually be compared.'''\n",
    "    values = [a, b, c]\n",
    "    values.sort()\n",
    "    return values[1]"
   ]
  },
  {
   "cell_type": "markdown",
   "metadata": {},
   "source": [
    "#### Q2: Clean Up This Code"
   ]
  },
  {
   "cell_type": "markdown",
   "metadata": {},
   "source": [
    "Here is one solution"
   ]
  },
  {
   "cell_type": "code",
   "execution_count": null,
   "metadata": {},
   "outputs": [],
   "source": [
    "def string_machine(input_string, iterations):\n",
    "    \"\"\"\n",
    "    Takes input_string and generates a new string with -'s and *'s\n",
    "    corresponding to characters that have identical adjacent characters\n",
    "    or not, respectively.  Iterates through this procedure with the resultant\n",
    "    strings for the supplied number of iterations.\n",
    "    \"\"\"\n",
    "    print(input_string)\n",
    "    old = input_string\n",
    "    for i in range(iterations):\n",
    "        new = ''\n",
    "        # iterate through characters in previous string\n",
    "        for j in range(len(input_string)):\n",
    "            left = j-1\n",
    "            right = (j+1)%len(input_string) # ensure right index wraps around\n",
    "            if old[left]==old[right]:\n",
    "                new += '-'\n",
    "            else:\n",
    "                new += '*'\n",
    "        print(new)\n",
    "        # store new string as old\n",
    "        old = new\n",
    "\n",
    "string_machine('et cetera', 10)"
   ]
  },
  {
   "cell_type": "code",
   "execution_count": null,
   "metadata": {},
   "outputs": [],
   "source": [
    "et cetera\n",
    "*****-***\n",
    "----*-*--\n",
    "---*---*-\n",
    "--*-*-*-*\n",
    "**-------\n",
    "***-----*\n",
    "--**---**\n",
    "*****-***\n",
    "----*-*--\n",
    "---*---*-"
   ]
  }
 ],
 "metadata": {
  "kernelspec": {
   "display_name": "Python 3",
   "language": "python",
   "name": "python3"
  },
  "language_info": {
   "codemirror_mode": {
    "name": "ipython",
    "version": 3
   },
   "file_extension": ".py",
   "mimetype": "text/x-python",
   "name": "python",
   "nbconvert_exporter": "python",
   "pygments_lexer": "ipython3",
   "version": "3.7.3"
  }
 },
 "nbformat": 4,
 "nbformat_minor": 2
}
