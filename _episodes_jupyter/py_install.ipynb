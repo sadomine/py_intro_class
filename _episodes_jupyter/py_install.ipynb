{
 "cells": [
  {
   "cell_type": "markdown",
   "metadata": {},
   "source": [
    "### Python Installation"
   ]
  },
  {
   "cell_type": "markdown",
   "metadata": {},
   "source": [
    "Although Python can be installed on your computer alone, we recommend the Anaconda distribution.  Anaconda has just about everything you'll need to do scientific computing, including Jupyter for running Python notebooks, the Spyder integrated development environment (IDE) for project work, and a wide variety of useful libraries. Click [here to download and install Anaconda.](https://www.anaconda.com/download/)  Note: You do not need to have Python installed before installing Anaconda.\n",
    "\n",
    ">### For Windows users:\n",
    ">If you have administrative privileges on your computer then you can check\n",
    ">Add Anaconda to my PATH environment variable. This allows you to run python\n",
    ">from the windows command prompt.\n",
    ">\n",
    ">If you do not have administrative access then you should not check this box\n",
    ">You will have to use the Conda Prompt to run any python code.\n",
    "\n",
    "![](http://res.cloudinary.com/gharv/image/upload/v1533403717/anconda_win_install_he1s4e.png)"
   ]
  },
  {
   "cell_type": "code",
   "execution_count": null,
   "metadata": {},
   "outputs": [],
   "source": []
  }
 ],
 "metadata": {
  "kernelspec": {
   "display_name": "Python 3",
   "language": "python",
   "name": "python3"
  },
  "language_info": {
   "codemirror_mode": {
    "name": "ipython",
    "version": 3
   },
   "file_extension": ".py",
   "mimetype": "text/x-python",
   "name": "python",
   "nbconvert_exporter": "python",
   "pygments_lexer": "ipython3",
   "version": "3.7.3"
  }
 },
 "nbformat": 4,
 "nbformat_minor": 2
}
