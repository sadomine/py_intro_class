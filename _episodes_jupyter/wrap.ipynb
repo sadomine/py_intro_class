{
 "cells": [
  {
   "cell_type": "markdown",
   "metadata": {},
   "source": [
    "Leslie Lamport once said, \"Writing is nature's way of showing you how sloppy your thinking is.\" The same is true of programming: many things that seem obvious when we're thinking about them turn out to be anything but when we have to explain them precisely."
   ]
  },
  {
   "cell_type": "markdown",
   "metadata": {},
   "source": [
    "# Python supports a large community within and outwith research."
   ]
  },
  {
   "cell_type": "markdown",
   "metadata": {},
   "source": [
    "* The [Python 3 documentation](https://docs.python.org/3/) covers the core language and the standard library.\n",
    "\n",
    "* [PyCon](https://pycon.org/) is the largest annual conference for the Python community.\n",
    "\n",
    "* [SciPy](https://scipy.org/) is a rich collection of scientific utilities. It is also the name of [a series of annual conferences](https://conference.scipy.org/).\n",
    "\n",
    "* [Jupyter](https://jupyter.org/) is the home of the Jupyter Notebook.\n",
    "\n",
    "* [Pandas](https://pandas.pydata.org/) is the home of the Pandas data library.\n",
    "\n",
    "* Stack Overflow's [general Python section](http://stackoverflow.com/questions/tagged/python) can be helpful, as can the sections on [NumPy](http://stackoverflow.com/questions/tagged/numpy), [SciPy](http://stackoverflow.com/questions/tagged/scipy), [Pandas](http://stackoverflow.com/questions/tagged/pandas), and other topics."
   ]
  }
 ],
 "metadata": {
  "kernelspec": {
   "display_name": "Python 3",
   "language": "python",
   "name": "python3"
  },
  "language_info": {
   "codemirror_mode": {
    "name": "ipython",
    "version": 3
   },
   "file_extension": ".py",
   "mimetype": "text/x-python",
   "name": "python",
   "nbconvert_exporter": "python",
   "pygments_lexer": "ipython3",
   "version": "3.7.3"
  }
 },
 "nbformat": 4,
 "nbformat_minor": 2
}
