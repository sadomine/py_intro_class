{
 "cells": [
  {
   "cell_type": "markdown",
   "metadata": {},
   "source": [
    "## Python programs are plain text files."
   ]
  },
  {
   "cell_type": "markdown",
   "metadata": {},
   "source": [
    "* They have the `.py` extension to let everyone (including the operating system) know it is a Python program.\n",
    "    * This is convention, not a requirement.\n",
    "* It's common to write them using a text editor but we are going to use the Jupyter Notebook.\n",
    "* The bit of extra setup is well worth it because the Notebook provides code completion and other helpful features.\n",
    "* Notebook files have the extension `.ipynb` to distinguish them from plain-text Python programs.\n",
    "    * Can export as \"pure Python\" to run from the command line."
   ]
  },
  {
   "cell_type": "markdown",
   "metadata": {},
   "source": [
    "## Use the Jupyter Notebook for editing and running Python"
   ]
  },
  {
   "cell_type": "markdown",
   "metadata": {},
   "source": [
    "* The Anaconda package manager is an automated way to install the Jupyter notebook.\n",
    "\n",
    "    * Click [here](https://nbviewer.jupyter.org/github/mydatastory/py_intro_class/blob/master/_episodes_jupyter/py_install.ipynb) for the Anaconda Distribution installation instructions.\n",
    "* It also installs all the extra libraries it needs to run.\n",
    "\n",
    "* Once you have installed Python and the Jupyter Notebook requirements, open a shell and type:\n",
    "\n",
    "`$ jupyter notebook`\n",
    "\n",
    "* This will start a Jupyter Notebook server and open your default web browser.\n",
    "\n",
    "* The server runs locally on your machine only and does not use an internet connection.\n",
    "\n",
    "* The server sends messages to your browser.\n",
    "\n",
    "* The server does the work and the web browser renders the notebook.\n",
    "\n",
    "* You can type code into the browser and see the result when the web page talks to the server.\n",
    "\n",
    "* This has several advantages:\n",
    "\n",
    "    * You can easily type, edit, and copy and paste blocks of code.\n",
    "    * Tab complete allows you to easily access the names of things you are using and learn more about them.\n",
    "    * It allows you to annotate your code with links, different sized text, bullets, etc. to make it more accessible to you and your collaborators.\n",
    "    * It allows you to display figures next to the code that produces them to tell a complete story of the analysis."
   ]
  },
  {
   "cell_type": "markdown",
   "metadata": {},
   "source": [
    "![Screenshot of a Jupyter Notebook on quantum mechanics by Robert Johansson](https://github.com/mydatastory/py_intro_class/blob/master/fig/jupyter_notebook_example.jpg?raw=true)"
   ]
  },
  {
   "cell_type": "markdown",
   "metadata": {},
   "source": [
    "## How It's Stored"
   ]
  },
  {
   "cell_type": "markdown",
   "metadata": {},
   "source": [
    "* The notebook file is stored in a format called JSON.\n",
    "* Just like a webpage, what's saved looks different from what you see in your browser.\n",
    "* But this format allows Jupyter to mix source code, text, and images, all in one file."
   ]
  },
  {
   "cell_type": "markdown",
   "metadata": {},
   "source": [
    "#### Code vs. Text"
   ]
  },
  {
   "cell_type": "markdown",
   "metadata": {},
   "source": [
    "We often use the term \"code\" to mean \"the source code of software written in a language such as Python\". \n",
    "A \"code cell\" in a Notebook is a cell that contains software; a \"text cell\" is one that contains ordinary \n",
    "prose written for human beings. \n",
    "    \n",
    "    "
   ]
  },
  {
   "cell_type": "markdown",
   "metadata": {},
   "source": [
    "## The Notebook has Command and Edit modes."
   ]
  },
  {
   "cell_type": "markdown",
   "metadata": {},
   "source": [
    "* Open a new notebook from the dropdown menu (that says 'New') in the top right corner of the file browser page.\n",
    "* Each notebook contains one or more cells that contain code, text, or images.\n",
    "* If you press `esc` and `return` alternately, the outer border of your code cell will change from blue to green.\n",
    "     * The difference in color is subtle.\n",
    "* These are the command (blue) and edit (green) modes of your notebook.\n",
    "* In command mode, pressing the `H` key will provide a list of all the shortcut keys.\n",
    "* Command mode alows you to edit notebook-level features, and edit mode changes the content of cells.\n",
    "* When in command mode (esc/gray),\n",
    "    * The `B` key will make a new cell below the currently selected cell.\n",
    "    * The `A` key will make one above.\n",
    "    * The `X` key will delete the current cell.\n",
    "    * The `Z` key will undo your last cell deletion.\n",
    "* All actions can be done using the menus, but there are lots of keyboard shortcuts to speed things up.\n",
    "* If you remember the `esc` and `H` shortcut, you will be able to find out all the rest.\n"
   ]
  },
  {
   "cell_type": "markdown",
   "metadata": {},
   "source": [
    "> #### Command Vs. Edit\n",
    "> In the Jupyter notebook page are you currently in command or edit mode?  \n",
    "> Switch between the modes. Use the shortcuts to generate a new cell. Use the shortcuts to delete a cell\n",
    "> ##### [Answer](#answer_key)"
   ]
  },
  {
   "cell_type": "markdown",
   "metadata": {},
   "source": [
    "## Use the keyboard and mouse to select and edit cells."
   ]
  },
  {
   "cell_type": "markdown",
   "metadata": {},
   "source": [
    "* Pressing the `enter` key turns the border green and engages edit mode, which allows you to type within the cell.\n",
    "* Because we want to be able to write many lines of code in a single cell, pressing the `enter` key when in edit mode (green) moves the cursor to the next line in the cell just like in a text editor.\n",
    "* We need some other way to tell the Notebook we want to run what's in the cell.\n",
    "* Pressing the `shift` and the `enter` key together will execute the contents of the cell.\n",
    "* Notice that the `return` and `shift` keys on the right of the keyboard are right next to each other."
   ]
  },
  {
   "cell_type": "markdown",
   "metadata": {},
   "source": [
    "## The Notebook will turn Markdown into pretty-printed documentation."
   ]
  },
  {
   "cell_type": "markdown",
   "metadata": {},
   "source": [
    "* Notebooks can also render Markdown.\n",
    "    * A simple plain-text format for writing lists, links, and other things that might go into a web page.\n",
    "    * Equivalently, a subset of HTML that looks like what you'd send in an old-fashioned email.\n",
    "* Turn the current cell into a Markdown cell by entering the command mode (esc/gray) and press the \"M\" key.\n",
    "* `In [ ]:` will disappear to show it is no longer a code cell and you will be able to write in Markdown.\n",
    "* Turn the current cell into a Code cell by entering the command mode (esc/gray) and press the \"Y\" key."
   ]
  },
  {
   "cell_type": "markdown",
   "metadata": {},
   "source": [
    "## Markdown does most of what HTML does."
   ]
  },
  {
   "cell_type": "markdown",
   "metadata": {},
   "source": [
    "\\* Uses asterisks <br>\n",
    "\\* to create <br>\n",
    "\\* bullet lists"
   ]
  },
  {
   "cell_type": "markdown",
   "metadata": {},
   "source": [
    "******\n",
    "\\* You can use indents <br>\n",
    "&nbsp; &nbsp; &nbsp; &nbsp; \\* To create sublists <br>\n",
    "&nbsp; &nbsp; &nbsp; &nbsp; \\* of the same type <br>\n",
    "\\* Or sublists\n",
    "    1. Of different\n",
    "    1. types"
   ]
  },
  {
   "cell_type": "markdown",
   "metadata": {},
   "source": [
    "******\n",
    "\\# A Level-1 Heading"
   ]
  },
  {
   "cell_type": "markdown",
   "metadata": {},
   "source": [
    "******\n",
    "\\## A Level-2 Heading (etc.)"
   ]
  },
  {
   "cell_type": "markdown",
   "metadata": {},
   "source": [
    "******\n",
    "Line breaks <br>\n",
    "don't matter.\n",
    "<br><br>\n",
    "But blank lines <br>\n",
    "create new paragraphs."
   ]
  },
  {
   "cell_type": "markdown",
   "metadata": {},
   "source": [
    "******\n",
    "\\[Create links](http://software-carpentry.org) with `[...](...)`. <br>\n",
    "Or use [named links][data_carpentry].\n",
    "\n",
    "\\[data_carpentry]: http://datacarpentry.org"
   ]
  },
  {
   "cell_type": "markdown",
   "metadata": {},
   "source": [
    "## Questions"
   ]
  },
  {
   "cell_type": "markdown",
   "metadata": {},
   "source": [
    "#### Q1: Creating Lists in Markdown\n",
    "Create a nested list in a Markdown cell in a notebook that looks like this:\n",
    "\n",
    "1.  Get funding.\n",
    "2.  Do work.\n",
    "    *   Design experiment.\n",
    "    *   Collect data.\n",
    "    *   Analyze.\n",
    "3.  Write up.\n",
    "4.  Publish.\n",
    "\n",
    "##### [Answer](#answer_key)"
   ]
  },
  {
   "cell_type": "markdown",
   "metadata": {},
   "source": [
    "#### Q2: More Math\n",
    "What is displayed when a Python cell in a notebook that contains several calculations is executed? For example, what > happens when this cell is executed?"
   ]
  },
  {
   "cell_type": "code",
   "execution_count": 5,
   "metadata": {
    "scrolled": true
   },
   "outputs": [
    {
     "data": {
      "text/plain": [
       "3"
      ]
     },
     "execution_count": 5,
     "metadata": {},
     "output_type": "execute_result"
    }
   ],
   "source": [
    "7 * 3\n",
    "2 + 1"
   ]
  },
  {
   "cell_type": "markdown",
   "metadata": {},
   "source": [
    "##### [Answer](#answer_key)"
   ]
  },
  {
   "cell_type": "markdown",
   "metadata": {},
   "source": [
    "#### Q3: Change an Existing Cell from Code to Markdown\n",
    "What happens if you write some Python in a code cell and then you switch it to a Markdown cell? For example, put the following in a code cell:"
   ]
  },
  {
   "cell_type": "code",
   "execution_count": null,
   "metadata": {},
   "outputs": [],
   "source": [
    "x = 6 * 7 + 12\n",
    "print(x)"
   ]
  },
  {
   "cell_type": "markdown",
   "metadata": {},
   "source": [
    "And then run it with **Shift+Enter** to be sure that it works as a code cell. Now go back to the cell and use **Esc** then **M** > to switch the cell to Markdown and “run” it with **Shift+Enter**. What happened and how might this be useful? \n",
    "##### [Answer](#answer_key)"
   ]
  },
  {
   "cell_type": "markdown",
   "metadata": {},
   "source": [
    "#### Q4: Equations\n",
    "Standard Markdown (such as we're using for these notes) won't render equations, but the Notebook will.  Create a new > Mardown cell and enter the following:\n",
    "\n",
    "`$\\sum_{i=1}^{N} 2^{-i} \\approx 1$`\n",
    "\n",
    "(It’s probably easier to copy and paste.) What does it display? What do you think the underscore, _, circumflex, ^, \n",
    "and dollar sign, $, do?\n",
    "\n",
    "##### [Answer](#answer_key)\n"
   ]
  },
  {
   "cell_type": "markdown",
   "metadata": {},
   "source": [
    "******\n",
    "******\n",
    "******\n",
    "******\n",
    "******\n",
    "******\n",
    "******\n",
    "******\n",
    "******\n",
    "******\n",
    "******\n",
    "******\n",
    "******"
   ]
  },
  {
   "cell_type": "markdown",
   "metadata": {},
   "source": [
    "### <a id='answer_key'> Answers </a>"
   ]
  },
  {
   "cell_type": "markdown",
   "metadata": {},
   "source": [
    "#### Command vs. Edit\n",
    "\n",
    "Command mode has a grey border and Edit mode has a green border. Use **esc** and **Enter** to switch between modes. You need to be in command mode (Hit **esc** if your cell is green). Type **B** or **A**. You need to be in command mode (Hit **esc** if your cell is green). Type **X**."
   ]
  },
  {
   "cell_type": "markdown",
   "metadata": {},
   "source": [
    "#### Q1: Lists in Markdown \n",
    "1.  Get funding.\n",
    "2.  Do work. <br>\n",
    "    \\*   Design experiment. <br>\n",
    "    \\*   Collect data. <br>\n",
    "    \\*   Analyze. <br>\n",
    "3.  Write up.\n",
    "4.  Publish."
   ]
  },
  {
   "cell_type": "markdown",
   "metadata": {},
   "source": [
    "#### Q2: More Math"
   ]
  },
  {
   "cell_type": "code",
   "execution_count": null,
   "metadata": {},
   "outputs": [],
   "source": [
    "7 * 3\n",
    "2 + 1"
   ]
  },
  {
   "cell_type": "markdown",
   "metadata": {},
   "source": [
    "#### Q3: Change an Existing Cell from Code to Markdown\n",
    "The Python code gets treated like Markdown text. The lines appear as if they are part of one contiguous paragraph. This could be useful to temporarily turn on and off cells in notebooks that get used for multiple purposes.\n",
    "\n",
    "x = 6 * 7 + 12 \n",
    "print(x)"
   ]
  },
  {
   "cell_type": "markdown",
   "metadata": {},
   "source": [
    "#### Q4: Equations\n",
    "\n",
    "The notebook shows the equation as it would be rendered from LaTeX equation syntax. The dollar sign, $, is used to tell Markdown that the text in between is a LaTeX equation. If you’re not familiar with LaTeX, underscore, _, is used for subscripts and circumflex, ^, is used for superscripts. A pair of curly braces, { and }, is used to group text together so that the statement i=1 becomes the the subscript and N becomes the superscript. Similarly, -i is in curly braces to make the whole statement the superscript for 2. \\sum and \\approx are LaTeX commands for “sum over” and “approximate” symbols."
   ]
  }
 ],
 "metadata": {
  "kernelspec": {
   "display_name": "Python 3",
   "language": "python",
   "name": "python3"
  },
  "language_info": {
   "codemirror_mode": {
    "name": "ipython",
    "version": 3
   },
   "file_extension": ".py",
   "mimetype": "text/x-python",
   "name": "python",
   "nbconvert_exporter": "python",
   "pygments_lexer": "ipython3",
   "version": "3.7.3"
  }
 },
 "nbformat": 4,
 "nbformat_minor": 2
}
